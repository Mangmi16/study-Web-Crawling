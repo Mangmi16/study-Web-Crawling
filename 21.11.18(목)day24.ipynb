{
 "cells": [
  {
   "cell_type": "code",
   "execution_count": 16,
   "id": "db549cbb",
   "metadata": {},
   "outputs": [
    {
     "name": "stderr",
     "output_type": "stream",
     "text": [
      "C:\\Users\\ADMINI~1\\AppData\\Local\\Temp/ipykernel_11352/1120982156.py:11: DeprecationWarning: executable_path has been deprecated, please pass in a Service object\n",
      "  driver = webdriver.Chrome(chrome_path)\n",
      "C:\\Users\\ADMINI~1\\AppData\\Local\\Temp/ipykernel_11352/1120982156.py:19: DeprecationWarning: find_element_by_* commands are deprecated. Please use find_element() instead\n",
      "  요소_검색창 = driver.find_element_by_id(\"query\")\n"
     ]
    },
    {
     "name": "stdout",
     "output_type": "stream",
     "text": [
      "검색할내용을 입력동서대\n"
     ]
    }
   ],
   "source": [
    "# Riss 사이트에 접속한다\n",
    "# 모듈 불러오기\n",
    "from selenium import webdriver\n",
    "\n",
    "\n",
    "# http://www.riss.kr/index.do 페이지에 접속한다.\n",
    "\n",
    "# 웹 브라우저한테 시킬 모든 일은 driver 를 통해서 시킨다.\n",
    "# 크롬드라이버 경로를 설정한다.\n",
    "chrome_path = 'C:\\\\Users\\\\Administrator\\\\Desktop\\\\py.temp\\\\craling\\\\chromedriver.exe'\n",
    "driver = webdriver.Chrome(chrome_path)\n",
    "url = \"http://www.riss.kr/index.do\"\n",
    "driver.get(url)\n",
    "import time\n",
    "time.sleep(3)\n",
    "\n",
    "\n",
    "# '검색창' 엘레멘트 지정\n",
    "요소_검색창 = driver.find_element_by_id(\"query\")\n",
    "# ‘검색창’을 ‘클릭’한다\n",
    "요소_검색창.click()\n",
    "# '검색창'에‘코로나’ 라고 ‘입력’한다\n",
    "요소_검색창.send_keys(input('검색할내용을 입력'))\n",
    "\n",
    "# ‘검색버튼’을 ‘클릭’한다\n",
    "요소_검색창.send_keys('\\n')\n",
    "# 요소찾기\n",
    "\n",
    "\n",
    "\n"
   ]
  },
  {
   "cell_type": "code",
   "execution_count": 20,
   "id": "1e6fb4a0",
   "metadata": {},
   "outputs": [
    {
     "name": "stderr",
     "output_type": "stream",
     "text": [
      "C:\\Users\\ADMINI~1\\AppData\\Local\\Temp/ipykernel_11352/3650665565.py:1: DeprecationWarning: find_element_by_* commands are deprecated. Please use find_element() instead\n",
      "  driver.find_element_by_id('query').send_key('코로나')\n"
     ]
    },
    {
     "ename": "AttributeError",
     "evalue": "'WebElement' object has no attribute 'send_key'",
     "output_type": "error",
     "traceback": [
      "\u001b[1;31m---------------------------------------------------------------------------\u001b[0m",
      "\u001b[1;31mAttributeError\u001b[0m                            Traceback (most recent call last)",
      "\u001b[1;32mC:\\Users\\ADMINI~1\\AppData\\Local\\Temp/ipykernel_11352/3650665565.py\u001b[0m in \u001b[0;36m<module>\u001b[1;34m\u001b[0m\n\u001b[1;32m----> 1\u001b[1;33m \u001b[0mdriver\u001b[0m\u001b[1;33m.\u001b[0m\u001b[0mfind_element_by_id\u001b[0m\u001b[1;33m(\u001b[0m\u001b[1;34m'query'\u001b[0m\u001b[1;33m)\u001b[0m\u001b[1;33m.\u001b[0m\u001b[0msend_key\u001b[0m\u001b[1;33m(\u001b[0m\u001b[1;34m'코로나'\u001b[0m\u001b[1;33m)\u001b[0m\u001b[1;33m\u001b[0m\u001b[1;33m\u001b[0m\u001b[0m\n\u001b[0m\u001b[0;32m      2\u001b[0m \u001b[1;33m\u001b[0m\u001b[0m\n",
      "\u001b[1;31mAttributeError\u001b[0m: 'WebElement' object has no attribute 'send_key'"
     ]
    }
   ],
   "source": [
    "driver.find_element_by_id('query').send_key('코로나')\n",
    "driver.find_element_by_id('query').send_key('코로나')\n"
   ]
  },
  {
   "cell_type": "code",
   "execution_count": 21,
   "id": "3f054a13",
   "metadata": {},
   "outputs": [
    {
     "name": "stderr",
     "output_type": "stream",
     "text": [
      "C:\\Users\\ADMINI~1\\AppData\\Local\\Temp/ipykernel_11352/630473656.py:9: DeprecationWarning: executable_path has been deprecated, please pass in a Service object\n",
      "  driver = webdriver.Chrome(chrome_path)\n",
      "C:\\Users\\ADMINI~1\\AppData\\Local\\Temp/ipykernel_11352/630473656.py:17: DeprecationWarning: find_element_by_* commands are deprecated. Please use find_element() instead\n",
      "  요소_검색창 = driver.find_element_by_id(\"query\")\n"
     ]
    },
    {
     "name": "stdout",
     "output_type": "stream",
     "text": [
      "검색할내용을 입력배고파\n"
     ]
    }
   ],
   "source": [
    "from selenium import webdriver\n",
    "\n",
    "\n",
    "# http://www.riss.kr/index.do 페이지에 접속한다.\n",
    "\n",
    "# 웹 브라우저한테 시킬 모든 일은 driver 를 통해서 시킨다.\n",
    "# 크롬드라이버 경로를 설정한다.\n",
    "chrome_path = 'C:\\\\Users\\\\Administrator\\\\Desktop\\\\py.temp\\\\craling\\\\chromedriver.exe'\n",
    "driver = webdriver.Chrome(chrome_path)\n",
    "url = \"https://www.naver.com/\"\n",
    "driver.get(url)\n",
    "import time\n",
    "time.sleep(2)\n",
    "\n",
    "\n",
    "# '검색창' 엘레멘트 지정\n",
    "요소_검색창 = driver.find_element_by_id(\"query\")\n",
    "# ‘검색창’을 ‘클릭’한다\n",
    "요소_검색창.click()\n",
    "# '검색창'에‘코로나’ 라고 ‘입력’한다\n",
    "요소_검색창.send_keys(input('검색할내용을 입력'))\n",
    "\n",
    "# ‘검색버튼’을 ‘클릭’한다\n",
    "요소_검색창.send_keys('\\n')\n",
    "# 요소찾기\n"
   ]
  },
  {
   "cell_type": "code",
   "execution_count": null,
   "id": "af9a0c8e",
   "metadata": {},
   "outputs": [
    {
     "name": "stderr",
     "output_type": "stream",
     "text": [
      "C:\\Users\\ADMINI~1\\AppData\\Local\\Temp/ipykernel_1088/3627165038.py:9: DeprecationWarning: executable_path has been deprecated, please pass in a Service object\n",
      "  driver = webdriver.Chrome(chrome_path)\n",
      "C:\\Users\\ADMINI~1\\AppData\\Local\\Temp/ipykernel_1088/3627165038.py:17: DeprecationWarning: find_element_by_* commands are deprecated. Please use find_element() instead\n",
      "  요소_검색창 = driver.find_element_by_xpath('/html/body/div[1]/div[3]/form/div[1]/div[1]/div[1]/div/div[2]/input')\n"
     ]
    }
   ],
   "source": [
    "from selenium import webdriver\n",
    "\n",
    "\n",
    "# http://www.riss.kr/index.do 페이지에 접속한다.\n",
    "\n",
    "# 웹 브라우저한테 시킬 모든 일은 driver 를 통해서 시킨다.\n",
    "# 크롬드라이버 경로를 설정한다.\n",
    "chrome_path = 'C:\\\\Users\\\\Administrator\\\\Desktop\\\\py.temp\\\\craling\\\\chromedriver.exe'\n",
    "driver = webdriver.Chrome(chrome_path)\n",
    "url = \"https://www.google.com/\"\n",
    "driver.get(url)\n",
    "import time\n",
    "time.sleep(2)\n",
    "\n",
    "\n",
    "# '검색창' 엘레멘트 지정\n",
    "요소_검색창 = driver.find_element_by_xpath('/html/body/div[1]/div[3]/form/div[1]/div[1]/div[1]/div/div[2]/input')\n",
    "# ‘검색창’을 ‘클릭’한다\n",
    "요소_검색창.click()\n",
    "# '검색창'에‘코로나’ 라고 ‘입력’한다\n",
    "요소_검색창.send_keys(input('검색할내용을 입력'))\n",
    "\n",
    "# ‘검색버튼’을 ‘클릭’한다\n",
    "요소_검색창.send_keys('\\n')\n",
    "# 요소찾기\n",
    "# class=\"gLFyf gsfi\"\n",
    "# jsaction=\"paste:puy29d;\" \n",
    "# maxlength=\"2048\" name=\"q\" \n",
    "# type=\"text\"\n",
    "# aria-autocomplete=\"both\" aria-haspopup=\"false\" \n",
    "# autocapitalize=\"off\" autocomplete=\"off\" autocorrect=\"off\" \n",
    "# autofocus=\"\" role=\"combobox\" spellcheck=\"false\" title=\"검색\"\n",
    "# value=\"\" aria-label=\"검색\" \n",
    "# data-ved=\"0ahUKEwjz7cjyvp70AhWdr1YBHepSDQAQ39UDCAQ\">"
   ]
  },
  {
   "cell_type": "code",
   "execution_count": 6,
   "id": "cff184c1",
   "metadata": {},
   "outputs": [
    {
     "name": "stderr",
     "output_type": "stream",
     "text": [
      "C:\\Users\\ADMINI~1\\AppData\\Local\\Temp/ipykernel_1088/3466210050.py:5: DeprecationWarning: executable_path has been deprecated, please pass in a Service object\n",
      "  driver = webdriver.Chrome(chrome_path)\n",
      "C:\\Users\\ADMINI~1\\AppData\\Local\\Temp/ipykernel_1088/3466210050.py:13: DeprecationWarning: find_element_by_* commands are deprecated. Please use find_element() instead\n",
      "  요소_검색창 = driver.find_element_by_id(\"q\")\n"
     ]
    },
    {
     "name": "stdout",
     "output_type": "stream",
     "text": [
      "검색할내용을 입력sds\n"
     ]
    }
   ],
   "source": [
    "from selenium import webdriver\n",
    "\n",
    "\n",
    "chrome_path = 'C:\\\\Users\\\\Administrator\\\\Desktop\\\\py.temp\\\\craling\\\\chromedriver.exe'\n",
    "driver = webdriver.Chrome(chrome_path)\n",
    "url = \"https://www.daum.net/\"\n",
    "driver.get(url)\n",
    "import time\n",
    "time.sleep(2)\n",
    "\n",
    "\n",
    "\n",
    "요소_검색창 = driver.find_element_by_id(\"q\")\n",
    "\n",
    "요소_검색창.click()\n",
    "\n",
    "요소_검색창.send_keys(input('검색할내용을 입력'))\n",
    "\n",
    "\n",
    "요소_검색창.send_keys('\\n')\n",
    "# 요소찾기"
   ]
  },
  {
   "cell_type": "code",
   "execution_count": 5,
   "id": "f0bffd7e",
   "metadata": {},
   "outputs": [
    {
     "name": "stderr",
     "output_type": "stream",
     "text": [
      "C:\\Users\\ADMINI~1\\AppData\\Local\\Temp/ipykernel_2984/2160681077.py:5: DeprecationWarning: executable_path has been deprecated, please pass in a Service object\n",
      "  driver = webdriver.Chrome(chrome_path)\n",
      "C:\\Users\\ADMINI~1\\AppData\\Local\\Temp/ipykernel_2984/2160681077.py:20: DeprecationWarning: find_element_by_* commands are deprecated. Please use find_element() instead\n",
      "  요소_검색창 = driver.find_element_by_xpath('//*[@id=\"openSearchFormInput\"]')\n",
      "C:\\Users\\ADMINI~1\\AppData\\Local\\Temp/ipykernel_2984/2160681077.py:21: DeprecationWarning: find_element_by_* commands are deprecated. Please use find_element() instead\n",
      "  검색창 = driver.find_element_by_xpath('//*[@id=\"searchInput\"]')\n"
     ]
    },
    {
     "name": "stdout",
     "output_type": "stream",
     "text": [
      "검색할내용을 입력부산\n"
     ]
    }
   ],
   "source": [
    "from selenium import webdriver\n",
    "\n",
    "\n",
    "chrome_path = 'C:\\\\Users\\\\Administrator\\\\Desktop\\\\py.temp\\\\craling\\\\chromedriver.exe'\n",
    "driver = webdriver.Chrome(chrome_path)\n",
    "url = \"https://korean.visitkorea.or.kr/main/main.do#home\"\n",
    "driver.get(url)\n",
    "import time\n",
    "# driver.maximize_window()\n",
    "time.sleep(2)\n",
    "# <input type=\"text\" id=\"openSearchFormInput\" \n",
    "# placeholder=\"지금은 잠시 멈춰야 할때! 랜선으로 즐겨봐요.\" \n",
    "# title=\"검색\" readonly=\"\">\n",
    "\n",
    "# <input type=\"text\"\n",
    "# placeholder=\"지금은 잠시 멈춰야 할 때! 랜선으로 즐겨봐요\"\n",
    "# title=\"검색\" id=\"inp_search\" onkeyup=\"completechk();\"\n",
    "# onkeydown=\"wordsListDelete();\" autocomplete=\"off\">\n",
    "\n",
    "요소_검색창 = driver.find_element_by_xpath('//*[@id=\"openSearchFormInput\"]')\n",
    "검색창 = driver.find_element_by_xpath('//*[@id=\"searchInput\"]')\n",
    "\n",
    "요소_검색창.click()\n",
    "\n",
    "검색창.send_keys(input('검색할내용을 입력'))\n",
    "\n",
    "\n",
    "검색창.send_keys('\\n')\n",
    "# 요소찾기"
   ]
  },
  {
   "cell_type": "code",
   "execution_count": 13,
   "id": "4dc51338",
   "metadata": {},
   "outputs": [
    {
     "name": "stderr",
     "output_type": "stream",
     "text": [
      "C:\\Users\\ADMINI~1\\AppData\\Local\\Temp/ipykernel_7812/3746025417.py:9: DeprecationWarning: executable_path has been deprecated, please pass in a Service object\n",
      "  driver = webdriver.Chrome(chrome_path)\n",
      "C:\\Users\\ADMINI~1\\AppData\\Local\\Temp/ipykernel_7812/3746025417.py:17: DeprecationWarning: find_element_by_* commands are deprecated. Please use find_element() instead\n",
      "  요소_검색창 = driver.find_element_by_id('query')\n",
      "C:\\Users\\ADMINI~1\\AppData\\Local\\Temp/ipykernel_7812/3746025417.py:24: DeprecationWarning: find_element_by_* commands are deprecated. Please use find_element() instead\n",
      "  뉴스 = driver.find_element_by_xpath('//*[@id=\"lnb\"]/div[1]/div/ul/li[9]/a')\n"
     ]
    },
    {
     "name": "stdout",
     "output_type": "stream",
     "text": [
      "문서 저장하기  Keep에 저장 Keep 바로가기  뉴시스7시간 전네이버뉴스 28주년 맞은 이마트, 겨울 딸기 70t 할인 판매   맞아 겨울 제철 먹거리와 금·토·일 'e날 특가'로 고객 감사 행사를 이어간다고 18일 밝혔다. 우선 오는... 이마트는 3주 이른 딸기 행사로 겨울 딸기 시장 선점에 나선다는 계획이다. 일반적으로 겨울 딸기는 11월...       머니투데이4시간 전네이버뉴스 28주년 맞은 이마트, 겨울 딸기 70t 할인 판매     매일경제5시간 전네이버뉴스 겨울 딸기 70t 미리 확 푼다…이마트, 금토일 초특가 행사로 고객몰이     데일리안7시간 전네이버뉴스 ‘28주년’ 이마트, 딸기‧방어 등 겨울 제철 먹거리 할인\n",
      "\n",
      "머니투데이4시간 전네이버뉴스 28주년 맞은 이마트, 겨울 딸기 70t 할인 판매\n",
      "\n",
      "매일경제5시간 전네이버뉴스 겨울 딸기 70t 미리 확 푼다…이마트, 금토일 초특가 행사로 고객몰이\n",
      "\n",
      "데일리안7시간 전네이버뉴스 ‘28주년’ 이마트, 딸기‧방어 등 겨울 제철 먹거리 할인\n",
      "\n",
      "문서 저장하기  Keep에 저장 Keep 바로가기  데이터뉴스4시간 전 코벳블랑, 겨울 아우터 스타일링 제안   겨울 시즌 스타일링의 완성은 단연코 ‘아우터’라고 할 수 있다. 본인에게 딱 맞는 매력적인 아우터 하나만... 다채로운 겨울 아우터 스타일링을 제안한다고 18일 밝혔다. 코벳블랑은 특유의 내추럴한 무드의 감성이...       어패럴뉴스2시간 전 코벳블랑x젤라비, 다양한 겨울 아우터 스타일링 선봬     bnt뉴스4시간 전 코벳블랑x젤라비, 겨울 아우터 데일리 스타일링 제안\n",
      "\n",
      "어패럴뉴스2시간 전 코벳블랑x젤라비, 다양한 겨울 아우터 스타일링 선봬\n",
      "\n",
      "bnt뉴스4시간 전 코벳블랑x젤라비, 겨울 아우터 데일리 스타일링 제안\n",
      "\n",
      "문서 저장하기  Keep에 저장 Keep 바로가기  연합뉴스언론사 선정9시간 전네이버뉴스 유럽, 다시 혹독한 겨울…코로나 재확산에 봉쇄로 유턴(종합)   독일·프랑스·체코, 팬데믹 이후 최고 속도로 확진자 증가 재택근무·부스터샷 등 대응 부심…감염자 많아져 의료체계 위태 유럽에서 신종 코로나바이러스 감염증(코로나19)이 다시 빠르게 확산하면서 각국이...\n",
      "\n",
      "문서 저장하기  Keep에 저장 Keep 바로가기  파이낸셜뉴스1일 전네이버뉴스 쿠팡, '2021 겨울준비 필수 아이템 세일' 오픈   쿠팡은 성큼 다가온 겨울을 맞이해 보온용품부터 간식까지 겨울철 필수아이템을 한 곳에 모은 ‘2021 겨울준비 필수아이템 세일’을 오픈했다고 17일 밝혔다. 오는 28일까지 진행하는 이번 행사에는 겨울철 고객들이 자주...       아시아경제1일 전네이버뉴스 쿠팡 '겨울준비 필수아이템 세일' 오픈…오는 28일까지     뉴스11일 전네이버뉴스 쿠팡 '2021 겨울준비 필수 아이템 세일' 연다     이뉴스투데이1일 전 쿠팡 '2021 겨울준비 필수 아이템 세일'     e대한경제1일 전 쿠팡, ‘2021 겨울준비 필수아이템 세일’ 오픈  관련뉴스 18건 전체보기\n",
      "\n",
      "아시아경제1일 전네이버뉴스 쿠팡 '겨울준비 필수아이템 세일' 오픈…오는 28일까지\n",
      "\n",
      "뉴스11일 전네이버뉴스 쿠팡 '2021 겨울준비 필수 아이템 세일' 연다\n",
      "\n",
      "이뉴스투데이1일 전 쿠팡 '2021 겨울준비 필수 아이템 세일'\n",
      "\n",
      "e대한경제1일 전 쿠팡, ‘2021 겨울준비 필수아이템 세일’ 오픈\n",
      "\n",
      "문서 저장하기  Keep에 저장 Keep 바로가기  아시아경제언론사 선정1일 전네이버뉴스 [르포]\"올 겨울 유독 춥다는데…\" 거리 위 노숙인들, 겨울나기 '비상'   그런데 겨울이 춥지 안 춥겠냐\"고 툭 던지듯 답하고, 옷을 단단히 여민 채 다른 곳으로 향했다. 올해 첫눈은... 올겨울 추위도 혹독할 것이란 전망이 나온다. 지난 10일 기상청의 3개월 날씨 예보에 따르면 11월부터 내년...       뉴시스23시간 전네이버뉴스 성남시, 겨울철 노숙인 현장지원활동 전개\n",
      "\n",
      "뉴시스23시간 전네이버뉴스 성남시, 겨울철 노숙인 현장지원활동 전개\n",
      "\n",
      "문서 저장하기  Keep에 저장 Keep 바로가기  매일경제A22면 1단1일 전네이버뉴스 올해 겨울 외투 대세는 '기장 짧거나 품 크거나'   올겨울 아우터는 짧거나 큰 두 가지 형태가 주로 유행할 것으로 전망된다. 올겨울도 코로나19 이후 대두된 '컴포트(편안한)' 스타일링 경향은 이어진다. 집콕 패션으로 불리던 '원마일웨어'에서 벗어나 더 격식을 갖춰 입어야...       뉴시스언론사 선정1일 전네이버뉴스 \"올 겨울 짧은 기장, 오버사이즈 아우터가 뜬다\"     연합뉴스1일 전네이버뉴스 올겨울 외투는 '짧거나 크거나'…\"갖춰 입으면서도 편안하게\"\n",
      "\n",
      "뉴시스언론사 선정1일 전네이버뉴스 \"올 겨울 짧은 기장, 오버사이즈 아우터가 뜬다\"\n",
      "\n",
      "연합뉴스1일 전네이버뉴스 올겨울 외투는 '짧거나 크거나'…\"갖춰 입으면서도 편안하게\"\n",
      "\n",
      "문서 저장하기  Keep에 저장 Keep 바로가기  머니투데이3시간 전네이버뉴스 [신상품라운지]겨울라면 나왔다… 농심 '사천백짬뽕' 출시   농심이 겨울 추위를 달래줄 '사천백짬뽕'을 출시한다고 18일 밝혔다. 사천백짬뽕은 굴향과 시원 칼칼한 국물이 특징으로 중화풍 백짬뽕의 맛을 담은 제품이다. 굴을 비롯해 바지락, 미더덕, 야채 등으로 감칠맛나는...       전자신문4시간 전네이버뉴스 \"겨울 추위 달래는 진한 국물맛\"...농심, '사천백짬뽕' 출시     파이낸셜투데이5시간 전 농심, \"겨울 추위 달래줄 '사천백짬뽕' 출시\"     이뉴스투데이4시간 전 농심, 겨울 신제품으로 '사천백짬뽕' 출시     경인매일42분 전 '겨울추위 물렀거라'...농심, '사천백짬뽕' 출시\n",
      "\n",
      "전자신문4시간 전네이버뉴스 \"겨울 추위 달래는 진한 국물맛\"...농심, '사천백짬뽕' 출시\n",
      "\n",
      "파이낸셜투데이5시간 전 농심, \"겨울 추위 달래줄 '사천백짬뽕' 출시\"\n",
      "\n",
      "이뉴스투데이4시간 전 농심, 겨울 신제품으로 '사천백짬뽕' 출시\n",
      "\n",
      "경인매일42분 전 '겨울추위 물렀거라'...농심, '사천백짬뽕' 출시\n",
      "\n",
      "문서 저장하기  Keep에 저장 Keep 바로가기  매일경제2시간 전네이버뉴스 마세라티, 겨울용 타이어 20% 할인 '윈터 캠페인' 진행   마세라티가 서비스센터를 방문한 고객 차량을 대상으로 무상점검 서비스를 제공하고 겨울용 타이어를 20% 할인하는 ‘마세라티 2021 서비스 윈터 캠페인’을 진행한다고 18일 밝혔다 마세라티는 겨울철 주행 안전성을...       아시아경제3시간 전네이버뉴스 마세라티 \"겨울 대비 전차종 무상 점검 서비스 제공\"\n",
      "\n",
      "아시아경제3시간 전네이버뉴스 마세라티 \"겨울 대비 전차종 무상 점검 서비스 제공\"\n",
      "\n",
      "문서 저장하기  Keep에 저장 Keep 바로가기  뉴스12시간 전네이버뉴스 농촌진흥청, 겨울철 밀·보리 자연재해 관리 철저 당부   올겨울 찬 대륙고기압 확장으로 기온 변화 폭이 클 것이라는 예보에 따른 것이다. 농촌진흥청은 18일 \"겨울철 맥류의 기상재해는 불가피하게 발생하지만, 사전․사후 대책을 마련해 충분히 피해 규모를 줄일 수 있다\"며...       위키트리1시간 전 추운 겨울, 맥류 안전재배 관리 요령\n",
      "\n",
      "위키트리1시간 전 추운 겨울, 맥류 안전재배 관리 요령\n",
      "\n",
      "문서 저장하기  Keep에 저장 Keep 바로가기  스포츠조선3시간 전네이버뉴스 KT&G, '연말 김장김치 나눔' 진행…취약계층 겨울나기 지원   KT&G가 자사 청년 창업지원 시설인 '상상플래닛'이 위치한 서울시 성동구 지역에서 취약계층의 겨울나기 지원을 위한 '연말 김장김치 나눔 행사'를 17일 개최했다. 김장김치 나눔 행사에는 봉사자 30여명이 참여했고...\n",
      "\n"
     ]
    }
   ],
   "source": [
    "from selenium import webdriver\n",
    "from bs4 import BeautifulSoup\n",
    "\n",
    "# http://www.riss.kr/index.do 페이지에 접속한다.\n",
    "\n",
    "# 웹 브라우저한테 시킬 모든 일은 driver 를 통해서 시킨다.\n",
    "# 크롬드라이버 경로를 설정한다.\n",
    "chrome_path = 'C:\\\\Users\\\\Administrator\\\\Desktop\\\\py.temp\\\\craling\\\\chromedriver.exe'\n",
    "driver = webdriver.Chrome(chrome_path)\n",
    "url = \"https://www.naver.com/\"\n",
    "driver.get(url)\n",
    "import time\n",
    "time.sleep(3)\n",
    "\n",
    "\n",
    "# '검색창' 엘레멘트 지정\n",
    "요소_검색창 = driver.find_element_by_id('query')\n",
    "\n",
    "# ‘검색창’을 ‘클릭’한다\n",
    "요소_검색창.click()\n",
    "# '검색창'에‘코로나’ 라고 ‘입력’한다\n",
    "요소_검색창.send_keys('겨울')\n",
    "요소_검색창.send_keys('\\n')\n",
    "뉴스 = driver.find_element_by_xpath('//*[@id=\"lnb\"]/div[1]/div/ul/li[9]/a')\n",
    "뉴스.click()\n",
    "\n",
    "# <a role=\"tab\" href=\"?where=news&amp;sm=tab_jum&amp;query=%EA%B2%A8%EC%9A%B8\" \n",
    "# onclick=\"return goOtherCR(this,'a=tab*n.now&amp;r=9&amp;i=&amp;u='+urlencode\n",
    "# (this.href));\" \n",
    "# class=\"tab\" aria-selected=\"true\">뉴스</a>\n",
    "\n",
    "\n",
    "# ‘검색버튼’을 ‘클릭’한다\n",
    "\n",
    "# 요소찾기\n",
    "\n",
    "time.sleep(1)\n",
    "html = driver.page_source\n",
    "soup = BeautifulSoup(html, 'html.parser')\n",
    "\n",
    "content_list = soup.find('ul','list_news')\n",
    "\n",
    "li_list = content_list.find_all('li')\n",
    "\n",
    "for i in li_list:\n",
    "    print(i.text.strip())\n",
    "    print()\n",
    "\n",
    "\n",
    "\n",
    "\n"
   ]
  },
  {
   "cell_type": "code",
   "execution_count": 77,
   "id": "e851e2dd",
   "metadata": {},
   "outputs": [
    {
     "ename": "SyntaxError",
     "evalue": "invalid syntax (Temp/ipykernel_7812/1032129852.py, line 70)",
     "output_type": "error",
     "traceback": [
      "\u001b[1;36m  File \u001b[1;32m\"C:\\Users\\ADMINI~1\\AppData\\Local\\Temp/ipykernel_7812/1032129852.py\"\u001b[1;36m, line \u001b[1;32m70\u001b[0m\n\u001b[1;33m    print list(izip(news_tit_list,press_name_list,press_time_list,li_list_list))\u001b[0m\n\u001b[1;37m          ^\u001b[0m\n\u001b[1;31mSyntaxError\u001b[0m\u001b[1;31m:\u001b[0m invalid syntax\n"
     ]
    }
   ],
   "source": [
    "from selenium import webdriver\n",
    "from bs4 import BeautifulSoup\n",
    "\n",
    "chrome_path = 'C:\\\\Users\\\\Administrator\\\\Desktop\\\\py.temp\\\\craling\\\\chromedriver.exe'\n",
    "driver = webdriver.Chrome(chrome_path)\n",
    "url = \"https://www.naver.com/\"\n",
    "driver.get(url)\n",
    "import time\n",
    "time.sleep(1)\n",
    "\n",
    "\n",
    "\n",
    "요소_검색창 = driver.find_element_by_id('query')\n",
    "\n",
    "\n",
    "요소_검색창.click()\n",
    "\n",
    "요소_검색창.send_keys('겨울')\n",
    "요소_검색창.send_keys('\\n')\n",
    "뉴스 = driver.find_element_by_xpath('//*[@id=\"lnb\"]/div[1]/div/ul/li[9]/a')\n",
    "뉴스.click()\n",
    "\n",
    "\n",
    "\n",
    "html = driver.page_source\n",
    "soup = BeautifulSoup(html, 'html.parser')\n",
    "\n",
    "content_list = soup.find('ul','list_news')\n",
    "\n",
    "li_list = content_list.find_all('li')\n",
    "\n",
    "#제목 본문 언론사 이름,개시날짜시간,\n",
    "news_tit = content_list.find_all('a','news_tit')\n",
    "\n",
    "li_list = content_list.find_all('a','api_txt_lines dsc_txt_wrap')\n",
    "\n",
    "press_name = content_list.find_all('a','info press')\n",
    "\n",
    "press_time = content_list.find_all('span','info')\n",
    "press_time_list = []\n",
    "press_name_list = []\n",
    "li_list_list = []\n",
    "news_tit_list = []\n",
    "\n",
    "for i in news_tit:\n",
    "    news_tit_list.append(i.text.strip())\n",
    "    news_tit_list \n",
    "\n",
    "\n",
    "for i in li_list:\n",
    "    li_list_list.append(i.text.strip())\n",
    "    li_list_list\n",
    "\n",
    "\n",
    "\n",
    "for i in press_name:\n",
    "    press_name_list.append(i.text.strip())\n",
    "    press_name_list\n",
    "\n",
    "\n",
    "\n",
    "\n",
    "for i in press_time:\n",
    "    press_time_list.append(i.text.strip())\n",
    "    press_time_list\n",
    "\n",
    "from itertools import izip\n",
    "import itertools as it    \n",
    "list(it.chain(*zip(news_tit_list,press_name_list,press_time_list,li_list_list)))\n",
    "print list(izip(news_tit_list,press_name_list,press_time_list,li_list_list))\n",
    "\n",
    "\n",
    "\n",
    "\n",
    "\n",
    "    \n"
   ]
  },
  {
   "cell_type": "code",
   "execution_count": null,
   "id": "7ae79295",
   "metadata": {},
   "outputs": [],
   "source": [
    "press_time_list = []\n",
    "press_name_list = []\n",
    "li_list_list = []\n",
    "news_tit_list = []\n",
    "\n",
    "for i in li_list:\n",
    "    try :\n",
    "        print('1.제목',i.find_all('a','news_tit')).get_text().strip()\n",
    "    except :\n",
    "        continue\n",
    "    else:\n",
    "        \n"
   ]
  },
  {
   "cell_type": "code",
   "execution_count": 106,
   "id": "5caa110e",
   "metadata": {},
   "outputs": [
    {
     "name": "stderr",
     "output_type": "stream",
     "text": [
      "C:\\Users\\ADMINI~1\\AppData\\Local\\Temp/ipykernel_7812/4255106117.py:9: DeprecationWarning: executable_path has been deprecated, please pass in a Service object\n",
      "  driver = webdriver.Chrome(chrome_path)\n",
      "C:\\Users\\ADMINI~1\\AppData\\Local\\Temp/ipykernel_7812/4255106117.py:17: DeprecationWarning: find_element_by_* commands are deprecated. Please use find_element() instead\n",
      "  요소_검색창 = driver.find_element_by_id(\"query\")\n",
      "C:\\Users\\ADMINI~1\\AppData\\Local\\Temp/ipykernel_7812/4255106117.py:29: DeprecationWarning: find_element_by_* commands are deprecated. Please use find_element() instead\n",
      "  뉴스 = driver.find_element_by_xpath('//*[@id=\"lnb\"]/div[1]/div/ul/li[9]/a')\n"
     ]
    },
    {
     "ename": "AttributeError",
     "evalue": "'WebDriver' object has no attribute 'find_element_link_text'",
     "output_type": "error",
     "traceback": [
      "\u001b[1;31m---------------------------------------------------------------------------\u001b[0m",
      "\u001b[1;31mAttributeError\u001b[0m                            Traceback (most recent call last)",
      "\u001b[1;32mC:\\Users\\ADMINI~1\\AppData\\Local\\Temp/ipykernel_7812/4255106117.py\u001b[0m in \u001b[0;36m<module>\u001b[1;34m\u001b[0m\n\u001b[0;32m     31\u001b[0m \u001b[1;33m\u001b[0m\u001b[0m\n\u001b[0;32m     32\u001b[0m \u001b[1;32mfor\u001b[0m \u001b[0mi\u001b[0m \u001b[1;32min\u001b[0m \u001b[0mrange\u001b[0m\u001b[1;33m(\u001b[0m\u001b[1;36m1\u001b[0m\u001b[1;33m,\u001b[0m\u001b[1;36m11\u001b[0m\u001b[1;33m)\u001b[0m\u001b[1;33m:\u001b[0m\u001b[1;33m\u001b[0m\u001b[1;33m\u001b[0m\u001b[0m\n\u001b[1;32m---> 33\u001b[1;33m     \u001b[0mdriver\u001b[0m\u001b[1;33m.\u001b[0m\u001b[0mfind_element_link_text\u001b[0m\u001b[1;33m(\u001b[0m\u001b[0mstr\u001b[0m\u001b[1;33m(\u001b[0m\u001b[0mi\u001b[0m\u001b[1;33m)\u001b[0m\u001b[1;33m)\u001b[0m\u001b[1;33m.\u001b[0m\u001b[0mclick\u001b[0m\u001b[1;33m(\u001b[0m\u001b[1;33m)\u001b[0m\u001b[1;33m\u001b[0m\u001b[1;33m\u001b[0m\u001b[0m\n\u001b[0m",
      "\u001b[1;31mAttributeError\u001b[0m: 'WebDriver' object has no attribute 'find_element_link_text'"
     ]
    }
   ],
   "source": [
    "from selenium import webdriver\n",
    "\n",
    "\n",
    "# http://www.riss.kr/index.do 페이지에 접속한다.\n",
    "\n",
    "# 웹 브라우저한테 시킬 모든 일은 driver 를 통해서 시킨다.\n",
    "# 크롬드라이버 경로를 설정한다.\n",
    "chrome_path = 'C:\\\\Users\\\\Administrator\\\\Desktop\\\\py.temp\\\\craling\\\\chromedriver.exe'\n",
    "driver = webdriver.Chrome(chrome_path)\n",
    "url = \"https://www.naver.com/\"\n",
    "driver.get(url)\n",
    "import time\n",
    "time.sleep(2)\n",
    "\n",
    "\n",
    "# '검색창' 엘레멘트 지정\n",
    "요소_검색창 = driver.find_element_by_id(\"query\")\n",
    "# ‘검색창’을 ‘클릭’한다\n",
    "요소_검색창.click()\n",
    "# '검색창'에‘코로나’ 라고 ‘입력’한다\n",
    "요소_검색창.send_keys('됐다')\n",
    "\n",
    "# ‘검색버튼’을 ‘클릭’한다\n",
    "요소_검색창.send_keys('\\n')\n",
    "# 요소찾기\n",
    "\n",
    "\n",
    "\n",
    "뉴스 = driver.find_element_by_xpath('//*[@id=\"lnb\"]/div[1]/div/ul/li[9]/a')\n",
    "뉴스.click()\n",
    "\n",
    "for i in range(1,11):\n",
    "    driver.find_element_by_link_text(str(i)).click()"
   ]
  },
  {
   "cell_type": "code",
   "execution_count": null,
   "id": "3ff865cd",
   "metadata": {},
   "outputs": [],
   "source": []
  }
 ],
 "metadata": {
  "kernelspec": {
   "display_name": "Python 3 (ipykernel)",
   "language": "python",
   "name": "python3"
  },
  "language_info": {
   "codemirror_mode": {
    "name": "ipython",
    "version": 3
   },
   "file_extension": ".py",
   "mimetype": "text/x-python",
   "name": "python",
   "nbconvert_exporter": "python",
   "pygments_lexer": "ipython3",
   "version": "3.8.3"
  }
 },
 "nbformat": 4,
 "nbformat_minor": 5
}
